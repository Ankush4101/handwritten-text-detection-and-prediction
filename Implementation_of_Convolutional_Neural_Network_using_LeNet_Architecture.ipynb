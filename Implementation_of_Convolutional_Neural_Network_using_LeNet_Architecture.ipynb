{
  "nbformat": 4,
  "nbformat_minor": 0,
  "metadata": {
    "kernelspec": {
      "display_name": "Python 3",
      "language": "python",
      "name": "python3"
    },
    "language_info": {
      "codemirror_mode": {
        "name": "ipython",
        "version": 3
      },
      "file_extension": ".py",
      "mimetype": "text/x-python",
      "name": "python",
      "nbconvert_exporter": "python",
      "pygments_lexer": "ipython3",
      "version": "3.7.6"
    },
    "colab": {
      "provenance": []
    }
  },
  "cells": [
    {
      "cell_type": "code",
      "metadata": {
        "id": "qcfSkHxhNwn5"
      },
      "source": [
        "from tensorflow.keras.datasets import mnist\n",
        "import numpy as np\n"
      ],
      "execution_count": null,
      "outputs": []
    },
    {
      "cell_type": "code",
      "metadata": {
        "id": "WK5sREtvS4yO",
        "colab": {
          "base_uri": "https://localhost:8080/"
        },
        "outputId": "d115e712-7f78-46c9-d7d9-8916b4b6447b"
      },
      "source": [
        "from google.colab import drive\n",
        "drive.mount('/content/drive')"
      ],
      "execution_count": null,
      "outputs": [
        {
          "output_type": "stream",
          "text": [
            "Mounted at /content/drive\n"
          ],
          "name": "stdout"
        }
      ]
    },
    {
      "cell_type": "code",
      "metadata": {
        "id": "T2ljS5VeNwoB"
      },
      "source": [
        "data = []\n",
        "labels = []\n",
        "for row in open('/content/drive/MyDrive/Dataset/A_Z_Handwritten_Data.csv'):\n",
        "\n",
        "    row = row.split(\",\")\n",
        "    label = int(row[0])\n",
        "    image = np.array([int(x) for x in row[1:]], dtype=\"uint8\")\n",
        "    image = image.reshape((28, 28))\n",
        "    data.append(image)\n",
        "    labels.append(label)\n"
      ],
      "execution_count": null,
      "outputs": []
    },
    {
      "cell_type": "code",
      "metadata": {
        "id": "EtVhZ7LC_7w0"
      },
      "source": [
        "data\n",
        "labels"
      ],
      "execution_count": null,
      "outputs": []
    },
    {
      "cell_type": "code",
      "metadata": {
        "id": "I-Z0qLolNwoE"
      },
      "source": [
        "azdata = np.array(data, dtype=\"float32\")\n",
        "azlabels = np.array(labels, dtype=\"int\")"
      ],
      "execution_count": null,
      "outputs": []
    },
    {
      "cell_type": "code",
      "metadata": {
        "id": "Y61f_P1aNwoF",
        "colab": {
          "base_uri": "https://localhost:8080/"
        },
        "outputId": "74c193a3-6f8c-48c7-a309-3f2ad51a77bc"
      },
      "source": [
        "\n",
        "((trainData, trainLabels), (testData, testLabels)) = mnist.load_data()\n",
        "digitsdata = np.vstack([trainData, testData])\n",
        "digitslabels = np.hstack([trainLabels, testLabels])"
      ],
      "execution_count": null,
      "outputs": [
        {
          "output_type": "stream",
          "text": [
            "Downloading data from https://storage.googleapis.com/tensorflow/tf-keras-datasets/mnist.npz\n",
            "11493376/11490434 [==============================] - 0s 0us/step\n"
          ],
          "name": "stdout"
        }
      ]
    },
    {
      "cell_type": "code",
      "metadata": {
        "id": "5wzPGPL5NwoG"
      },
      "source": [
        "import keras\n",
        "from keras.models import Sequential\n",
        "from keras.layers import Dense , Dropout , Flatten , Conv2D , MaxPooling2D\n",
        "from tensorflow.keras.optimizers import SGD\n",
        "from sklearn.model_selection import train_test_split\n",
        "from sklearn.metrics import classification_report\n",
        "import numpy as np\n",
        "import cv2\n",
        "import pickle"
      ],
      "execution_count": null,
      "outputs": []
    },
    {
      "cell_type": "code",
      "metadata": {
        "id": "h51mhokRNwoI"
      },
      "source": [
        "azlabels += 10"
      ],
      "execution_count": null,
      "outputs": []
    },
    {
      "cell_type": "code",
      "metadata": {
        "id": "IhgTVXRVNwoI"
      },
      "source": [
        "data = np.vstack([azdata, digitsdata])\n",
        "labels = np.hstack([azlabels, digitslabels])"
      ],
      "execution_count": null,
      "outputs": []
    },
    {
      "cell_type": "code",
      "metadata": {
        "id": "CphebNwdNwoJ"
      },
      "source": [
        "\n",
        "(trainX, testX, trainY, testY) = train_test_split(data,labels, test_size=0.20, stratify=labels, random_state=42)"
      ],
      "execution_count": null,
      "outputs": []
    },
    {
      "cell_type": "code",
      "metadata": {
        "id": "PNSDdvJqNwoK"
      },
      "source": [
        "trainX=trainX.reshape(trainX.shape[0],28,28,1)\n",
        "testX=testX.reshape(testX.shape[0],28,28,1)"
      ],
      "execution_count": null,
      "outputs": []
    },
    {
      "cell_type": "code",
      "metadata": {
        "id": "6UWynZAiNwoL"
      },
      "source": [
        "input_shape=(28,28,1)"
      ],
      "execution_count": null,
      "outputs": []
    },
    {
      "cell_type": "code",
      "metadata": {
        "id": "A9gurkP5NwoL"
      },
      "source": [
        "trainX=trainX.astype('float32')\n",
        "testX=testX.astype('float32')\n",
        "trainX/=255\n",
        "testX/=255"
      ],
      "execution_count": null,
      "outputs": []
    },
    {
      "cell_type": "code",
      "metadata": {
        "id": "rxHy3aOKNwoM"
      },
      "source": [
        "trainY=keras.utils.to_categorical(trainY,36)\n",
        "testY=keras.utils.to_categorical(testY,36)"
      ],
      "execution_count": null,
      "outputs": []
    },
    {
      "cell_type": "code",
      "metadata": {
        "id": "Sh4eRJ-GNwoN"
      },
      "source": [
        "model=Sequential()"
      ],
      "execution_count": null,
      "outputs": []
    },
    {
      "cell_type": "code",
      "metadata": {
        "id": "GL2KZVT7NwoN"
      },
      "source": [
        "model.add(Conv2D(32,(3,3),input_shape=(28,28,1),activation='relu'))\n",
        "model.add(MaxPooling2D(pool_size=(2,2)))\n",
        "model.add(Conv2D(64,3,3,activation='relu'))\n",
        "model.add(MaxPooling2D(pool_size=(2,2)))\n",
        "\n",
        "model.add(Flatten())\n",
        "model.add(Dense(128,activation='relu'))\n",
        "\n",
        "model.add(Dense(36,activation='sigmoid'))"
      ],
      "execution_count": null,
      "outputs": []
    },
    {
      "cell_type": "code",
      "metadata": {
        "id": "vwloEgddNwoO"
      },
      "source": [
        "model.compile(loss=keras.losses.categorical_crossentropy,optimizer='adam',\n",
        "             metrics=['accuracy'])"
      ],
      "execution_count": null,
      "outputs": []
    },
    {
      "cell_type": "code",
      "metadata": {
        "id": "971sO5MUNwoP",
        "colab": {
          "base_uri": "https://localhost:8080/"
        },
        "outputId": "f93ef8a5-b140-4256-b59b-d541e2dbe642"
      },
      "source": [
        "model.fit(trainX,trainY,batch_size=128,epochs=3,verbose=1,validation_split=0.2)"
      ],
      "execution_count": null,
      "outputs": [
        {
          "output_type": "stream",
          "text": [
            "Epoch 1/3\n",
            "2213/2213 [==============================] - 109s 49ms/step - loss: 0.9346 - accuracy: 0.7476 - val_loss: 0.2229 - val_accuracy: 0.9364\n",
            "Epoch 2/3\n",
            "2213/2213 [==============================] - 108s 49ms/step - loss: 0.1899 - accuracy: 0.9447 - val_loss: 0.1576 - val_accuracy: 0.9539\n",
            "Epoch 3/3\n",
            "2213/2213 [==============================] - 110s 50ms/step - loss: 0.1434 - accuracy: 0.9582 - val_loss: 0.1335 - val_accuracy: 0.9624\n"
          ],
          "name": "stdout"
        },
        {
          "output_type": "execute_result",
          "data": {
            "text/plain": [
              "<tensorflow.python.keras.callbacks.History at 0x7efd977f1410>"
            ]
          },
          "metadata": {
            "tags": []
          },
          "execution_count": 18
        }
      ]
    },
    {
      "cell_type": "code",
      "metadata": {
        "colab": {
          "base_uri": "https://localhost:8080/"
        },
        "id": "JiQa92QcKjAF",
        "outputId": "221ceccc-400f-45fc-904c-09017d0de65b"
      },
      "source": [
        "\n",
        "\n",
        "!mkdir -p saved_model\n",
        "model.save('/content/drive/MyDrive/Dataset/saved_model/my_model')"
      ],
      "execution_count": null,
      "outputs": [
        {
          "output_type": "stream",
          "text": [
            "INFO:tensorflow:Assets written to: /content/drive/MyDrive/Dataset/saved_model/my_model/assets\n"
          ],
          "name": "stdout"
        }
      ]
    },
    {
      "cell_type": "code",
      "metadata": {
        "id": "Zbcx671jNwoP"
      },
      "source": [],
      "execution_count": null,
      "outputs": []
    },
    {
      "cell_type": "code",
      "metadata": {
        "id": "D_zfqsxxMcLP"
      },
      "source": [
        "# import tensorflow as tf\n",
        "# new_model = tf.keras.models.load_model('saved_model/my_model')"
      ],
      "execution_count": null,
      "outputs": []
    },
    {
      "cell_type": "code",
      "metadata": {
        "id": "JFO7RZ33NlgO"
      },
      "source": [],
      "execution_count": null,
      "outputs": []
    },
    {
      "cell_type": "code",
      "metadata": {
        "id": "mF5_x2XkMumh"
      },
      "source": [],
      "execution_count": null,
      "outputs": []
    }
  ]
}